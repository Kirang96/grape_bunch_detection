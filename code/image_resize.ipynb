{
 "cells": [
  {
   "cell_type": "code",
   "execution_count": 2,
   "metadata": {},
   "outputs": [],
   "source": [
    "\n",
    "import tensorflow as tf\n",
    "import numpy as np\n",
    "import cv2\n",
    "\n",
    "from preprocess import dataset_import\n",
    "import preprocess\n",
    "from preprocess import *"
   ]
  },
  {
   "cell_type": "code",
   "execution_count": 8,
   "metadata": {},
   "outputs": [
    {
     "name": "stdout",
     "output_type": "stream",
     "text": [
      "File read: 15\n",
      " training images read\n"
     ]
    }
   ],
   "source": [
    "# Getting the training data\n",
    "\n",
    "train_path = (r'D:\\Machine learning\\projects\\grape bunch detection\\archive\\data\\train')\n",
    "\n",
    "# Collect all the filenames\n",
    "all_train_file_names = file_name_collector(train_path)\n",
    "train_images = dataset_import(all_train_file_names, train_path)\n",
    "print('\\n training images read')"
   ]
  },
  {
   "cell_type": "code",
   "execution_count": 9,
   "metadata": {},
   "outputs": [
    {
     "name": "stdout",
     "output_type": "stream",
     "text": [
      "File read: 5\n",
      " testing images read\n"
     ]
    }
   ],
   "source": [
    "# Getting the Testing data\n",
    "\n",
    "test_path = (r'D:\\Machine learning\\projects\\grape bunch detection\\archive\\data\\test')\n",
    "\n",
    "# Collect all the filenames\n",
    "all_test_file_names = file_name_collector(test_path)\n",
    "\n",
    "test_images = dataset_import(all_test_file_names, test_path)\n",
    "print('\\n testing images read')\n"
   ]
  },
  {
   "cell_type": "code",
   "execution_count": 10,
   "metadata": {},
   "outputs": [],
   "source": [
    "train_images = np.array(train_images)\n",
    "test_images = np.array(test_images)"
   ]
  },
  {
   "cell_type": "code",
   "execution_count": 14,
   "metadata": {},
   "outputs": [],
   "source": [
    "def save_image(images, path):\n",
    "    num = 0\n",
    "    for img in images:\n",
    "        cv2.imwrite(os.path.join(path, 'new' + str(num)  + '.jpg'), img)\n",
    "        num +=1"
   ]
  },
  {
   "cell_type": "code",
   "execution_count": 15,
   "metadata": {},
   "outputs": [],
   "source": [
    "# Saving all the train images\n",
    "save_image(train_images, train_path)"
   ]
  },
  {
   "cell_type": "code",
   "execution_count": null,
   "metadata": {},
   "outputs": [],
   "source": [
    "# saving all the test images\n",
    "save_image(test_images, test_path)"
   ]
  },
  {
   "cell_type": "code",
   "execution_count": null,
   "metadata": {},
   "outputs": [],
   "source": []
  }
 ],
 "metadata": {
  "interpreter": {
   "hash": "0242cd58630d09ed6ac24e220dd102f6d1844e2a82bacb0aea456402853cb344"
  },
  "kernelspec": {
   "display_name": "Python 3.8.11 64-bit ('venv': venv)",
   "name": "python3"
  },
  "language_info": {
   "codemirror_mode": {
    "name": "ipython",
    "version": 3
   },
   "file_extension": ".py",
   "mimetype": "text/x-python",
   "name": "python",
   "nbconvert_exporter": "python",
   "pygments_lexer": "ipython3",
   "version": "3.8.11"
  },
  "orig_nbformat": 4
 },
 "nbformat": 4,
 "nbformat_minor": 2
}
